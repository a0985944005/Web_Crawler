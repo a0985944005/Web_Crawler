{
 "cells": [
  {
   "cell_type": "code",
   "execution_count": 3,
   "metadata": {},
   "outputs": [
    {
     "name": "stdout",
     "output_type": "stream",
     "text": [
      "Dcard 熱門前十文章標題：\n",
      " 1. 爆料 星培無縫接軌+劈腿\n",
      " 2. 我比不上一個香奈兒包\n",
      " 3. 還記得蔣月惠嗎\n",
      " 4. 最有創意的萬聖節裝扮\n",
      " 5. 同志大遊行-跟黃大謙的對話分享\n",
      " 6. 嫁男生有比較幸福嗎？\n",
      " 7. 詢問度超高自然眉毛教學～\n",
      " 8. 我在妳的包包放了一個東西\n",
      " 9. 致7、8年級生-謝謝這些卡通出現在我們的童年(文長)PART2\n",
      "10. 肯德基A+b+C=59\n"
     ]
    }
   ],
   "source": [
    "import requests #引入函式庫\n",
    "from bs4 import BeautifulSoup\n",
    "import re\n",
    "url = 'https://www.dcard.tw/f'\n",
    "resp = requests.get(url)\n",
    "soup = BeautifulSoup(resp.text, 'html.parser')\n",
    "dcard_title = soup.find_all('h3', re.compile('PostEntry_title_'))\n",
    "print('Dcard 熱門前十文章標題：')\n",
    "for index, item in enumerate(dcard_title[:10]):\n",
    "    print(\"{0:2d}. {1}\".format(index + 1, item.text.strip()))"
   ]
  },
  {
   "cell_type": "code",
   "execution_count": null,
   "metadata": {},
   "outputs": [],
   "source": []
  },
  {
   "cell_type": "code",
   "execution_count": null,
   "metadata": {},
   "outputs": [],
   "source": []
  },
  {
   "cell_type": "code",
   "execution_count": null,
   "metadata": {},
   "outputs": [],
   "source": []
  },
  {
   "cell_type": "code",
   "execution_count": null,
   "metadata": {},
   "outputs": [],
   "source": []
  }
 ],
 "metadata": {
  "kernelspec": {
   "display_name": "Python 3",
   "language": "python",
   "name": "python3"
  },
  "language_info": {
   "codemirror_mode": {
    "name": "ipython",
    "version": 3
   },
   "file_extension": ".py",
   "mimetype": "text/x-python",
   "name": "python",
   "nbconvert_exporter": "python",
   "pygments_lexer": "ipython3",
   "version": "3.6.4"
  }
 },
 "nbformat": 4,
 "nbformat_minor": 2
}
